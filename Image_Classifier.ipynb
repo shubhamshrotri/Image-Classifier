{
 "cells": [
  {
   "cell_type": "code",
   "execution_count": 1,
   "metadata": {},
   "outputs": [
    {
     "name": "stderr",
     "output_type": "stream",
     "text": [
      "c:\\users\\shubham\\anaconda3\\envs\\tensorflow\\lib\\site-packages\\h5py\\__init__.py:36: FutureWarning: Conversion of the second argument of issubdtype from `float` to `np.floating` is deprecated. In future, it will be treated as `np.float64 == np.dtype(float).type`.\n",
      "  from ._conv import register_converters as _register_converters\n",
      "Using TensorFlow backend.\n"
     ]
    }
   ],
   "source": [
    "from keras.models import Sequential\n",
    "from keras.layers import Convolution2D\n",
    "from keras.layers import MaxPooling2D\n",
    "from keras.layers import Flatten\n",
    "from keras.layers import Dense\n",
    "from keras.layers import Dropout\n",
    "from keras.preprocessing.image import ImageDataGenerator"
   ]
  },
  {
   "cell_type": "code",
   "execution_count": 4,
   "metadata": {},
   "outputs": [
    {
     "name": "stderr",
     "output_type": "stream",
     "text": [
      "c:\\users\\shubham\\anaconda3\\envs\\tensorflow\\lib\\site-packages\\ipykernel_launcher.py:2: UserWarning: Update your `Conv2D` call to the Keras 2 API: `Conv2D(32, (3, 3), input_shape=(64, 64, 3..., activation=\"relu\")`\n",
      "  \n",
      "c:\\users\\shubham\\anaconda3\\envs\\tensorflow\\lib\\site-packages\\ipykernel_launcher.py:4: UserWarning: Update your `Conv2D` call to the Keras 2 API: `Conv2D(32, (3, 3), activation=\"relu\")`\n",
      "  after removing the cwd from sys.path.\n",
      "c:\\users\\shubham\\anaconda3\\envs\\tensorflow\\lib\\site-packages\\ipykernel_launcher.py:13: UserWarning: Update your `Dense` call to the Keras 2 API: `Dense(units=128, activation=\"relu\")`\n",
      "  del sys.path[0]\n",
      "c:\\users\\shubham\\anaconda3\\envs\\tensorflow\\lib\\site-packages\\ipykernel_launcher.py:16: UserWarning: Update your `Dense` call to the Keras 2 API: `Dense(units=1, activation=\"sigmoid\")`\n",
      "  app.launch_new_instance()\n"
     ]
    }
   ],
   "source": [
    "classifier = Sequential()\n",
    "classifier.add(Convolution2D(32,3,3, input_shape=(64,64,3), activation= 'relu'))\n",
    "classifier.add(MaxPooling2D(pool_size=(2,2)))\n",
    "classifier.add(Convolution2D(32,3,3, activation= 'relu'))\n",
    "classifier.add(MaxPooling2D(pool_size=(2,2)))\n",
    "\n",
    "classifier.add(Convolution2D(64, (3, 3), padding='same', activation='relu'))\n",
    "classifier.add(MaxPooling2D(pool_size=(2, 2))) \n",
    "classifier.add(Convolution2D(64, (3, 3), padding='same', activation='relu'))\n",
    "classifier.add(MaxPooling2D(pool_size=(2, 2)))\n",
    "\n",
    "classifier.add(Flatten())\n",
    "classifier.add(Dense(output_dim=128,activation='relu'))\n",
    "classifier.add(Dropout(0.5))\n",
    "\n",
    "classifier.add(Dense(output_dim=1,activation='sigmoid'))\n",
    "classifier.compile(optimizer='adam', loss= 'binary_crossentropy',metrics=['accuracy'])"
   ]
  },
  {
   "cell_type": "code",
   "execution_count": 5,
   "metadata": {},
   "outputs": [],
   "source": [
    "train_datagen = ImageDataGenerator(\n",
    "        rescale=1./255,\n",
    "        shear_range=0.2,\n",
    "        zoom_range=0.2,\n",
    "        horizontal_flip=True)"
   ]
  },
  {
   "cell_type": "code",
   "execution_count": 6,
   "metadata": {},
   "outputs": [],
   "source": [
    "test_datagen = ImageDataGenerator(rescale=1./255)"
   ]
  },
  {
   "cell_type": "code",
   "execution_count": 7,
   "metadata": {},
   "outputs": [
    {
     "name": "stdout",
     "output_type": "stream",
     "text": [
      "Found 8000 images belonging to 2 classes.\n"
     ]
    }
   ],
   "source": [
    "training_set = train_datagen.flow_from_directory(\n",
    "        'dataset/training_set',\n",
    "        target_size=(64, 64),\n",
    "        batch_size=32,\n",
    "        class_mode='binary')"
   ]
  },
  {
   "cell_type": "code",
   "execution_count": 8,
   "metadata": {},
   "outputs": [
    {
     "name": "stdout",
     "output_type": "stream",
     "text": [
      "Found 2000 images belonging to 2 classes.\n"
     ]
    }
   ],
   "source": [
    "test_set = test_datagen.flow_from_directory(\n",
    "        'dataset/test_set',\n",
    "        target_size=(64, 64),\n",
    "        batch_size=32,\n",
    "        class_mode='binary')"
   ]
  },
  {
   "cell_type": "code",
   "execution_count": 20,
   "metadata": {},
   "outputs": [
    {
     "name": "stderr",
     "output_type": "stream",
     "text": [
      "c:\\users\\shubham\\anaconda3\\envs\\tensorflow\\lib\\site-packages\\ipykernel_launcher.py:8: UserWarning: Update your `fit_generator` call to the Keras 2 API: `fit_generator(<keras.pre..., validation_steps=62.5, epochs=100, validation_data=<keras.pre..., workers=12, steps_per_epoch=7.0)`\n",
      "  \n"
     ]
    },
    {
     "name": "stdout",
     "output_type": "stream",
     "text": [
      "Epoch 1/100\n",
      "7/7 [==============================] - 2s 268ms/step - loss: 0.2841 - acc: 0.8884 - val_loss: 0.3579 - val_acc: 0.8345\n",
      "Epoch 2/100\n",
      "7/7 [==============================] - 1s 179ms/step - loss: 0.2830 - acc: 0.8705 - val_loss: 0.3875 - val_acc: 0.8325\n",
      "Epoch 3/100\n",
      "7/7 [==============================] - 1s 205ms/step - loss: 0.3019 - acc: 0.8795 - val_loss: 0.3553 - val_acc: 0.8405\n",
      "Epoch 4/100\n",
      "7/7 [==============================] - 2s 221ms/step - loss: 0.2980 - acc: 0.8571 - val_loss: 0.3382 - val_acc: 0.8525\n",
      "Epoch 5/100\n",
      "7/7 [==============================] - 2s 219ms/step - loss: 0.2872 - acc: 0.8795 - val_loss: 0.3634 - val_acc: 0.8385\n",
      "Epoch 6/100\n",
      "7/7 [==============================] - 1s 184ms/step - loss: 0.2585 - acc: 0.8884 - val_loss: 0.3680 - val_acc: 0.8430\n",
      "Epoch 7/100\n",
      "7/7 [==============================] - 1s 185ms/step - loss: 0.4194 - acc: 0.8080 - val_loss: 0.3653 - val_acc: 0.8390\n",
      "Epoch 8/100\n",
      "7/7 [==============================] - 1s 205ms/step - loss: 0.3000 - acc: 0.8616 - val_loss: 0.3813 - val_acc: 0.8440\n",
      "Epoch 9/100\n",
      "7/7 [==============================] - 2s 220ms/step - loss: 0.2674 - acc: 0.9018 - val_loss: 0.3854 - val_acc: 0.8265\n",
      "Epoch 10/100\n",
      "7/7 [==============================] - 2s 258ms/step - loss: 0.3259 - acc: 0.8438 - val_loss: 0.3733 - val_acc: 0.8455\n",
      "Epoch 11/100\n",
      "7/7 [==============================] - 2s 230ms/step - loss: 0.2775 - acc: 0.8571 - val_loss: 0.3660 - val_acc: 0.8460\n",
      "Epoch 12/100\n",
      "7/7 [==============================] - 2s 229ms/step - loss: 0.2369 - acc: 0.8973 - val_loss: 0.3585 - val_acc: 0.8335\n",
      "Epoch 13/100\n",
      "7/7 [==============================] - 2s 230ms/step - loss: 0.2558 - acc: 0.8929 - val_loss: 0.3598 - val_acc: 0.8285\n",
      "Epoch 14/100\n",
      "7/7 [==============================] - 2s 227ms/step - loss: 0.3299 - acc: 0.8795 - val_loss: 0.3901 - val_acc: 0.8145\n",
      "Epoch 15/100\n",
      "7/7 [==============================] - 2s 229ms/step - loss: 0.3293 - acc: 0.8393 - val_loss: 0.4195 - val_acc: 0.8270\n",
      "Epoch 16/100\n",
      "7/7 [==============================] - 1s 211ms/step - loss: 0.3649 - acc: 0.8661 - val_loss: 0.3810 - val_acc: 0.8395\n",
      "Epoch 17/100\n",
      "7/7 [==============================] - 1s 183ms/step - loss: 0.3458 - acc: 0.8482 - val_loss: 0.3374 - val_acc: 0.8575\n",
      "Epoch 18/100\n",
      "7/7 [==============================] - 1s 195ms/step - loss: 0.3444 - acc: 0.8304 - val_loss: 0.3534 - val_acc: 0.8430\n",
      "Epoch 19/100\n",
      "7/7 [==============================] - 2s 230ms/step - loss: 0.3520 - acc: 0.8304 - val_loss: 0.3492 - val_acc: 0.8485\n",
      "Epoch 20/100\n",
      "7/7 [==============================] - 2s 244ms/step - loss: 0.2618 - acc: 0.8661 - val_loss: 0.3529 - val_acc: 0.8445\n",
      "Epoch 21/100\n",
      "7/7 [==============================] - 2s 230ms/step - loss: 0.2987 - acc: 0.8795 - val_loss: 0.4114 - val_acc: 0.8390\n",
      "Epoch 22/100\n",
      "7/7 [==============================] - 2s 234ms/step - loss: 0.3924 - acc: 0.8348 - val_loss: 0.3724 - val_acc: 0.8280\n",
      "Epoch 23/100\n",
      "7/7 [==============================] - 2s 235ms/step - loss: 0.2974 - acc: 0.8661 - val_loss: 0.3730 - val_acc: 0.8255\n",
      "Epoch 24/100\n",
      "7/7 [==============================] - 2s 232ms/step - loss: 0.3681 - acc: 0.8348 - val_loss: 0.3621 - val_acc: 0.8320\n",
      "Epoch 25/100\n",
      "7/7 [==============================] - 2s 223ms/step - loss: 0.3171 - acc: 0.8929 - val_loss: 0.3852 - val_acc: 0.8225\n",
      "Epoch 26/100\n",
      "7/7 [==============================] - 2s 232ms/step - loss: 0.3124 - acc: 0.8705 - val_loss: 0.3494 - val_acc: 0.8495\n",
      "Epoch 27/100\n",
      "7/7 [==============================] - 2s 244ms/step - loss: 0.2611 - acc: 0.8839 - val_loss: 0.3724 - val_acc: 0.8450\n",
      "Epoch 28/100\n",
      "7/7 [==============================] - 2s 235ms/step - loss: 0.3258 - acc: 0.8438 - val_loss: 0.3720 - val_acc: 0.8415\n",
      "Epoch 29/100\n",
      "7/7 [==============================] - 2s 234ms/step - loss: 0.2546 - acc: 0.8929 - val_loss: 0.3468 - val_acc: 0.8525\n",
      "Epoch 30/100\n",
      "7/7 [==============================] - 2s 231ms/step - loss: 0.3522 - acc: 0.8705 - val_loss: 0.3451 - val_acc: 0.8600\n",
      "Epoch 31/100\n",
      "7/7 [==============================] - 2s 216ms/step - loss: 0.3155 - acc: 0.8661 - val_loss: 0.3449 - val_acc: 0.8560\n",
      "Epoch 32/100\n",
      "7/7 [==============================] - 2s 227ms/step - loss: 0.3625 - acc: 0.8527 - val_loss: 0.3393 - val_acc: 0.8625\n",
      "Epoch 33/100\n",
      "7/7 [==============================] - 2s 229ms/step - loss: 0.3198 - acc: 0.8750 - val_loss: 0.3362 - val_acc: 0.8545\n",
      "Epoch 34/100\n",
      "7/7 [==============================] - 2s 216ms/step - loss: 0.4238 - acc: 0.8170 - val_loss: 0.3369 - val_acc: 0.8535\n",
      "Epoch 35/100\n",
      "7/7 [==============================] - 1s 206ms/step - loss: 0.2638 - acc: 0.9152 - val_loss: 0.3276 - val_acc: 0.8585\n",
      "Epoch 36/100\n",
      "7/7 [==============================] - 2s 262ms/step - loss: 0.3480 - acc: 0.8304 - val_loss: 0.3404 - val_acc: 0.8535\n",
      "Epoch 37/100\n",
      "7/7 [==============================] - 2s 219ms/step - loss: 0.3574 - acc: 0.8259 - val_loss: 0.3437 - val_acc: 0.8570\n",
      "Epoch 38/100\n",
      "7/7 [==============================] - 2s 227ms/step - loss: 0.2667 - acc: 0.8571 - val_loss: 0.3596 - val_acc: 0.8430\n",
      "Epoch 39/100\n",
      "7/7 [==============================] - 2s 225ms/step - loss: 0.2418 - acc: 0.9152 - val_loss: 0.3735 - val_acc: 0.8405\n",
      "Epoch 40/100\n",
      "7/7 [==============================] - 2s 227ms/step - loss: 0.2687 - acc: 0.8750 - val_loss: 0.3528 - val_acc: 0.8545\n",
      "Epoch 41/100\n",
      "7/7 [==============================] - 2s 228ms/step - loss: 0.3268 - acc: 0.8348 - val_loss: 0.3447 - val_acc: 0.8570\n",
      "Epoch 42/100\n",
      "7/7 [==============================] - 2s 228ms/step - loss: 0.3060 - acc: 0.8438 - val_loss: 0.3469 - val_acc: 0.8495\n",
      "Epoch 43/100\n",
      "7/7 [==============================] - 2s 226ms/step - loss: 0.2511 - acc: 0.8884 - val_loss: 0.3404 - val_acc: 0.8565\n",
      "Epoch 44/100\n",
      "7/7 [==============================] - 2s 226ms/step - loss: 0.2519 - acc: 0.8839 - val_loss: 0.3414 - val_acc: 0.8600\n",
      "Epoch 45/100\n",
      "7/7 [==============================] - 2s 227ms/step - loss: 0.2297 - acc: 0.8884 - val_loss: 0.3602 - val_acc: 0.8465\n",
      "Epoch 46/100\n",
      "7/7 [==============================] - 2s 228ms/step - loss: 0.2868 - acc: 0.8750 - val_loss: 0.3473 - val_acc: 0.8560\n",
      "Epoch 47/100\n",
      "7/7 [==============================] - 2s 227ms/step - loss: 0.2869 - acc: 0.8705 - val_loss: 0.3480 - val_acc: 0.8560\n",
      "Epoch 48/100\n",
      "7/7 [==============================] - 2s 228ms/step - loss: 0.2686 - acc: 0.8839 - val_loss: 0.3566 - val_acc: 0.8470\n",
      "Epoch 49/100\n",
      "7/7 [==============================] - 2s 228ms/step - loss: 0.2699 - acc: 0.8705 - val_loss: 0.3442 - val_acc: 0.8540\n",
      "Epoch 50/100\n",
      "7/7 [==============================] - 2s 224ms/step - loss: 0.3185 - acc: 0.8438 - val_loss: 0.3704 - val_acc: 0.8495\n",
      "Epoch 51/100\n",
      "7/7 [==============================] - 2s 272ms/step - loss: 0.2568 - acc: 0.8973 - val_loss: 0.4024 - val_acc: 0.8255\n",
      "Epoch 52/100\n",
      "7/7 [==============================] - 4s 521ms/step - loss: 0.3314 - acc: 0.8393 - val_loss: 0.3447 - val_acc: 0.8570\n",
      "Epoch 53/100\n",
      "7/7 [==============================] - 4s 557ms/step - loss: 0.3310 - acc: 0.8482 - val_loss: 0.3373 - val_acc: 0.8615\n",
      "Epoch 54/100\n",
      "7/7 [==============================] - 3s 497ms/step - loss: 0.2631 - acc: 0.8973 - val_loss: 0.3398 - val_acc: 0.8580\n",
      "Epoch 55/100\n",
      "7/7 [==============================] - 3s 453ms/step - loss: 0.3068 - acc: 0.8438 - val_loss: 0.3544 - val_acc: 0.8480\n",
      "Epoch 56/100\n",
      "7/7 [==============================] - 3s 458ms/step - loss: 0.2350 - acc: 0.9062 - val_loss: 0.3429 - val_acc: 0.8555\n",
      "Epoch 57/100\n",
      "7/7 [==============================] - 4s 597ms/step - loss: 0.2970 - acc: 0.8571 - val_loss: 0.3686 - val_acc: 0.8400\n",
      "Epoch 58/100\n",
      "7/7 [==============================] - 4s 510ms/step - loss: 0.2838 - acc: 0.8884 - val_loss: 0.3812 - val_acc: 0.8375\n",
      "Epoch 59/100\n",
      "7/7 [==============================] - 3s 451ms/step - loss: 0.2892 - acc: 0.8750 - val_loss: 0.3520 - val_acc: 0.8535\n",
      "Epoch 60/100\n",
      "7/7 [==============================] - 3s 476ms/step - loss: 0.3585 - acc: 0.8616 - val_loss: 0.3843 - val_acc: 0.8270\n",
      "Epoch 61/100\n",
      "7/7 [==============================] - 3s 447ms/step - loss: 0.3103 - acc: 0.8705 - val_loss: 0.3377 - val_acc: 0.8550\n",
      "Epoch 62/100\n",
      "7/7 [==============================] - 3s 458ms/step - loss: 0.3303 - acc: 0.8705 - val_loss: 0.3668 - val_acc: 0.8375\n",
      "Epoch 63/100\n"
     ]
    },
    {
     "name": "stdout",
     "output_type": "stream",
     "text": [
      "7/7 [==============================] - 4s 526ms/step - loss: 0.2582 - acc: 0.8973 - val_loss: 0.3486 - val_acc: 0.8515\n",
      "Epoch 64/100\n",
      "7/7 [==============================] - 3s 497ms/step - loss: 0.3752 - acc: 0.8304 - val_loss: 0.3426 - val_acc: 0.8515\n",
      "Epoch 65/100\n",
      "7/7 [==============================] - 3s 495ms/step - loss: 0.3300 - acc: 0.8527 - val_loss: 0.3346 - val_acc: 0.8560\n",
      "Epoch 66/100\n",
      "7/7 [==============================] - 3s 475ms/step - loss: 0.2932 - acc: 0.8705 - val_loss: 0.3427 - val_acc: 0.8590\n",
      "Epoch 67/100\n",
      "7/7 [==============================] - 3s 456ms/step - loss: 0.2569 - acc: 0.8973 - val_loss: 0.3417 - val_acc: 0.8600\n",
      "Epoch 68/100\n",
      "7/7 [==============================] - 3s 473ms/step - loss: 0.2312 - acc: 0.8929 - val_loss: 0.3938 - val_acc: 0.8265\n",
      "Epoch 69/100\n",
      "7/7 [==============================] - 3s 479ms/step - loss: 0.3519 - acc: 0.8482 - val_loss: 0.3429 - val_acc: 0.8545\n",
      "Epoch 70/100\n",
      "7/7 [==============================] - 3s 463ms/step - loss: 0.3057 - acc: 0.8929 - val_loss: 0.3634 - val_acc: 0.8390\n",
      "Epoch 71/100\n",
      "7/7 [==============================] - 3s 418ms/step - loss: 0.3262 - acc: 0.8482 - val_loss: 0.3577 - val_acc: 0.8515\n",
      "Epoch 72/100\n",
      "7/7 [==============================] - 4s 564ms/step - loss: 0.2719 - acc: 0.8839 - val_loss: 0.4305 - val_acc: 0.8085\n",
      "Epoch 73/100\n",
      "7/7 [==============================] - 3s 451ms/step - loss: 0.2981 - acc: 0.8482 - val_loss: 0.3245 - val_acc: 0.8575\n",
      "Epoch 74/100\n",
      "7/7 [==============================] - 3s 477ms/step - loss: 0.3199 - acc: 0.8750 - val_loss: 0.3317 - val_acc: 0.8520\n",
      "Epoch 75/100\n",
      "7/7 [==============================] - 3s 413ms/step - loss: 0.2992 - acc: 0.8348 - val_loss: 0.3296 - val_acc: 0.8655\n",
      "Epoch 76/100\n",
      "7/7 [==============================] - 3s 499ms/step - loss: 0.3335 - acc: 0.8348 - val_loss: 0.3555 - val_acc: 0.8430\n",
      "Epoch 77/100\n",
      "7/7 [==============================] - 3s 441ms/step - loss: 0.2335 - acc: 0.8973 - val_loss: 0.3745 - val_acc: 0.8495\n",
      "Epoch 78/100\n",
      "7/7 [==============================] - 3s 470ms/step - loss: 0.2731 - acc: 0.8705 - val_loss: 0.3926 - val_acc: 0.8310\n",
      "Epoch 79/100\n",
      "7/7 [==============================] - 4s 517ms/step - loss: 0.3291 - acc: 0.8571 - val_loss: 0.3454 - val_acc: 0.8515\n",
      "Epoch 80/100\n",
      "7/7 [==============================] - 3s 464ms/step - loss: 0.3161 - acc: 0.8661 - val_loss: 0.3370 - val_acc: 0.8500\n",
      "Epoch 81/100\n",
      "7/7 [==============================] - 3s 455ms/step - loss: 0.2307 - acc: 0.9062 - val_loss: 0.3490 - val_acc: 0.8520\n",
      "Epoch 82/100\n",
      "7/7 [==============================] - 3s 446ms/step - loss: 0.3197 - acc: 0.8795 - val_loss: 0.3449 - val_acc: 0.8580\n",
      "Epoch 83/100\n",
      "7/7 [==============================] - 4s 522ms/step - loss: 0.2655 - acc: 0.8795 - val_loss: 0.3453 - val_acc: 0.8585\n",
      "Epoch 84/100\n",
      "7/7 [==============================] - 3s 472ms/step - loss: 0.3054 - acc: 0.8795 - val_loss: 0.3430 - val_acc: 0.8550\n",
      "Epoch 85/100\n",
      "7/7 [==============================] - 3s 499ms/step - loss: 0.2808 - acc: 0.8929 - val_loss: 0.3465 - val_acc: 0.8520\n",
      "Epoch 86/100\n",
      "7/7 [==============================] - 3s 480ms/step - loss: 0.2606 - acc: 0.8884 - val_loss: 0.3547 - val_acc: 0.8475\n",
      "Epoch 87/100\n",
      "7/7 [==============================] - 4s 501ms/step - loss: 0.2900 - acc: 0.8616 - val_loss: 0.3591 - val_acc: 0.8420\n",
      "Epoch 88/100\n",
      "7/7 [==============================] - 3s 480ms/step - loss: 0.2695 - acc: 0.8705 - val_loss: 0.3571 - val_acc: 0.8485\n",
      "Epoch 89/100\n",
      "7/7 [==============================] - 3s 451ms/step - loss: 0.2500 - acc: 0.8884 - val_loss: 0.3561 - val_acc: 0.8605\n",
      "Epoch 90/100\n",
      "7/7 [==============================] - 3s 449ms/step - loss: 0.2389 - acc: 0.9018 - val_loss: 0.3869 - val_acc: 0.8350\n",
      "Epoch 91/100\n",
      "7/7 [==============================] - 3s 476ms/step - loss: 0.3745 - acc: 0.8393 - val_loss: 0.3539 - val_acc: 0.8550\n",
      "Epoch 92/100\n",
      "7/7 [==============================] - 3s 440ms/step - loss: 0.3060 - acc: 0.8661 - val_loss: 0.3895 - val_acc: 0.8420\n",
      "Epoch 93/100\n",
      "7/7 [==============================] - 3s 477ms/step - loss: 0.3454 - acc: 0.8304 - val_loss: 0.3524 - val_acc: 0.8470\n",
      "Epoch 94/100\n",
      "7/7 [==============================] - 3s 455ms/step - loss: 0.2854 - acc: 0.9018 - val_loss: 0.3830 - val_acc: 0.8335\n",
      "Epoch 95/100\n",
      "7/7 [==============================] - 3s 443ms/step - loss: 0.2935 - acc: 0.8571 - val_loss: 0.3505 - val_acc: 0.8555\n",
      "Epoch 96/100\n",
      "7/7 [==============================] - 3s 464ms/step - loss: 0.3091 - acc: 0.8839 - val_loss: 0.4128 - val_acc: 0.8265\n",
      "Epoch 97/100\n",
      "7/7 [==============================] - 3s 459ms/step - loss: 0.2705 - acc: 0.8929 - val_loss: 0.3549 - val_acc: 0.8475\n",
      "Epoch 98/100\n",
      "7/7 [==============================] - 3s 449ms/step - loss: 0.2471 - acc: 0.9018 - val_loss: 0.3374 - val_acc: 0.8610\n",
      "Epoch 99/100\n",
      "7/7 [==============================] - 3s 498ms/step - loss: 0.2249 - acc: 0.9107 - val_loss: 0.3548 - val_acc: 0.8495\n",
      "Epoch 100/100\n",
      "7/7 [==============================] - 3s 497ms/step - loss: 0.3233 - acc: 0.8571 - val_loss: 0.3392 - val_acc: 0.8520\n"
     ]
    },
    {
     "data": {
      "text/plain": [
       "<keras.callbacks.History at 0x2d71ec585c0>"
      ]
     },
     "execution_count": 20,
     "metadata": {},
     "output_type": "execute_result"
    }
   ],
   "source": [
    "batch_size = 32\n",
    "classifier.fit_generator(\n",
    "        training_set,\n",
    "        samples_per_epoch=8000/batch_size,\n",
    "        epochs=100,\n",
    "        validation_data=test_set,\n",
    "        validation_steps=2000/batch_size,\n",
    "        workers = 12)"
   ]
  }
 ],
 "metadata": {
  "kernelspec": {
   "display_name": "Python 3",
   "language": "python",
   "name": "python3"
  },
  "language_info": {
   "codemirror_mode": {
    "name": "ipython",
    "version": 3
   },
   "file_extension": ".py",
   "mimetype": "text/x-python",
   "name": "python",
   "nbconvert_exporter": "python",
   "pygments_lexer": "ipython3",
   "version": "3.5.5"
  }
 },
 "nbformat": 4,
 "nbformat_minor": 2
}
